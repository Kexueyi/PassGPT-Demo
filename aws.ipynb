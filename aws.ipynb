{
 "cells": [
  {
   "cell_type": "markdown",
   "metadata": {},
   "source": [
    "This is for interacting with aws s3 bucket."
   ]
  },
  {
   "cell_type": "code",
   "execution_count": 2,
   "metadata": {},
   "outputs": [
    {
     "name": "stdout",
     "output_type": "stream",
     "text": [
      "pass-gpt\n"
     ]
    }
   ],
   "source": [
    "import boto3\n",
    "\n",
    "s3 = boto3.resource('s3')\n",
    "for bucket in s3.buckets.all():\n",
    "    print(bucket.name)"
   ]
  },
  {
   "cell_type": "code",
   "execution_count": 3,
   "metadata": {},
   "outputs": [],
   "source": [
    "import os\n",
    "\n",
    "bucket_name = 'pass-gpt'\n",
    "\n",
    "# Directory to upload\n",
    "directory_name = 'data'\n",
    "\n",
    "# Iterate over all files in the directory and its subdirectories\n",
    "for dirpath, dirnames, filenames in os.walk(directory_name):\n",
    "    for filename in filenames:\n",
    "        # Construct the full file path\n",
    "        filepath = os.path.join(dirpath, filename)\n",
    "\n",
    "        # Construct the destination file path\n",
    "        destination_path = filepath[len(directory_name)+1:]\n",
    "\n",
    "        # Upload each file\n",
    "        with open(filepath, 'rb') as data:\n",
    "            s3.Bucket(bucket_name).put_object(Key=destination_path, Body=data)"
   ]
  },
  {
   "cell_type": "code",
   "execution_count": 5,
   "metadata": {},
   "outputs": [
    {
     "name": "stdout",
     "output_type": "stream",
     "text": [
      "code/Week 1.ipynb\n",
      "code/Week 10.ipynb\n",
      "code/Week 11.ipynb\n",
      "code/Week 2.ipynb\n",
      "code/Week 3.ipynb\n",
      "code/Week 4.ipynb\n",
      "code/Week 5.ipynb\n",
      "code/Week 6.ipynb\n",
      "code/Week 7.ipynb\n",
      "code/Week 8.ipynb\n",
      "code/Week 9.ipynb\n",
      "outline/GPT_wk3-5.json\n",
      "outline/NER_wk1-4.json\n",
      "outline/info.json\n",
      "slides/EE6405_W10_ A survey of NLP applications across diverse industries_For Students.pdf\n",
      "slides/EE6405_W11_ Deep-dive into NLP_For Students.pdf\n",
      "slides/EE6405_W1_Introduction to NLP_For Students.pdf\n",
      "slides/EE6405_W2_Linguistic Analysis and Information Extraction_For Students.pdf\n",
      "slides/EE6405_W3_Term Weighting Scheme and Topic Modelling_For Students.pdf\n",
      "slides/EE6405_W4_Traditional ML and NLP Applications_For Students.pdf\n",
      "slides/EE6405_W5_EMaWE_For Students.pdf\n",
      "slides/EE6405_W6_NM.pdf\n",
      "slides/EE6405_W7_Transformer.pdf\n",
      "slides/EE6405_W8_HPT_For Students.pdf\n",
      "slides/EE6405_W9_TLLMs_For Students.pdf\n"
     ]
    }
   ],
   "source": [
    "s3 = boto3.client('s3')\n",
    "# List all objects in the bucket\n",
    "response = s3.list_objects(Bucket=bucket_name)\n",
    "\n",
    "# Print each object's key\n",
    "for obj in response['Contents']:\n",
    "    print(obj['Key'])"
   ]
  }
 ],
 "metadata": {
  "kernelspec": {
   "display_name": "nlp",
   "language": "python",
   "name": "python3"
  },
  "language_info": {
   "codemirror_mode": {
    "name": "ipython",
    "version": 3
   },
   "file_extension": ".py",
   "mimetype": "text/x-python",
   "name": "python",
   "nbconvert_exporter": "python",
   "pygments_lexer": "ipython3",
   "version": "3.8.19"
  }
 },
 "nbformat": 4,
 "nbformat_minor": 2
}
